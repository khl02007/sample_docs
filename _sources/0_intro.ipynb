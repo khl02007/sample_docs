{
 "cells": [
  {
   "cell_type": "markdown",
   "metadata": {},
   "source": [
    "# Intro"
   ]
  }
 ],
 "metadata": {
  "interpreter": {
   "hash": "5e7eb6b2aca802a77b34b38bed1ad7891b30ce3c58943121087adc13ed6f6ff3"
  },
  "kernelspec": {
   "display_name": "Python 3.8.10 ('nwb_datajoint')",
   "language": "python",
   "name": "python3"
  },
  "language_info": {
   "codemirror_mode": {
    "name": "ipython",
    "version": 3
   },
   "file_extension": ".py",
   "mimetype": "text/x-python",
   "name": "python",
   "nbconvert_exporter": "python",
   "pygments_lexer": "ipython3",
   "version": "3.8.10"
  },
  "orig_nbformat": 4
 },
 "nbformat": 4,
 "nbformat_minor": 2
}
